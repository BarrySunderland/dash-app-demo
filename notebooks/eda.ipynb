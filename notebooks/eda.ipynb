{
 "cells": [
  {
   "cell_type": "markdown",
   "id": "noticed-entertainment",
   "metadata": {},
   "source": [
    "The csv file contains a set of data from one of our 3 phase energy monitoring sensors.   \n",
    "Phase L1, L2 and L3 with the parameters real power, imaginary power, current and voltage.\n",
    "\n",
    "[  ] Create a python dash application to display the data contained in the excel file  \n",
    "The user visualizing the data shall be able to select which data he wants to display in the app"
   ]
  },
  {
   "cell_type": "code",
   "execution_count": 317,
   "id": "expired-brazil",
   "metadata": {},
   "outputs": [],
   "source": [
    "import pandas as pd\n",
    "import plotly.express as px\n",
    "import datetime as dt\n",
    "\n",
    "from plotly.subplots import make_subplots\n",
    "import plotly.graph_objects as go\n",
    "\n",
    "\n",
    "import dash  # (version 1.12.0) pip install dash\n",
    "import dash_core_components as dcc\n",
    "import dash_html_components as html\n",
    "from dash.dependencies import Input, Output"
   ]
  },
  {
   "cell_type": "code",
   "execution_count": null,
   "id": "northern-method",
   "metadata": {},
   "outputs": [],
   "source": []
  },
  {
   "cell_type": "code",
   "execution_count": 241,
   "id": "injured-steel",
   "metadata": {},
   "outputs": [],
   "source": [
    "def prep_datetime(df):\n",
    "    \"\"\"\n",
    "    convert day and time columns to a single date time column\n",
    "    drop the original day and time columns\n",
    "    \"\"\"\n",
    "    df['time'] = df['time'].apply(pd.Timedelta)\n",
    "    df['datetime'] = pd.to_datetime(df['day']) + df['time']\n",
    "    df = df.set_index('datetime')\n",
    "    df = df.drop(columns=['day','time'])\n",
    "    return df"
   ]
  },
  {
   "cell_type": "code",
   "execution_count": 330,
   "id": "indian-swiss",
   "metadata": {},
   "outputs": [],
   "source": [
    "def filter_df_cols(df, type_selection=['p','q','i','v']):\n",
    "    \n",
    "    selected_cols = []\n",
    "    for col in df.columns:\n",
    "        if col[-1] in type_selection:\n",
    "            selected_cols.append(col)\n",
    "    \n",
    "    return df.loc[:,selected_cols]\n"
   ]
  },
  {
   "cell_type": "code",
   "execution_count": 409,
   "id": "dressed-dodge",
   "metadata": {},
   "outputs": [],
   "source": []
  },
  {
   "cell_type": "code",
   "execution_count": 407,
   "id": "large-allen",
   "metadata": {},
   "outputs": [],
   "source": [
    "ser = df['l2_i']\n",
    "mu = ser.mean()\n",
    "std = ser.std()"
   ]
  },
  {
   "cell_type": "code",
   "execution_count": 397,
   "id": "dramatic-blank",
   "metadata": {},
   "outputs": [
    {
     "data": {
      "text/plain": [
       "125.89413333333333"
      ]
     },
     "execution_count": 397,
     "metadata": {},
     "output_type": "execute_result"
    }
   ],
   "source": [
    "mu"
   ]
  },
  {
   "cell_type": "code",
   "execution_count": 398,
   "id": "anonymous-explanation",
   "metadata": {},
   "outputs": [
    {
     "data": {
      "text/plain": [
       "26.469422033009753"
      ]
     },
     "execution_count": 398,
     "metadata": {},
     "output_type": "execute_result"
    }
   ],
   "source": [
    "std"
   ]
  },
  {
   "cell_type": "code",
   "execution_count": 405,
   "id": "contained-acquisition",
   "metadata": {},
   "outputs": [
    {
     "data": {
      "text/plain": [
       "(60,)"
      ]
     },
     "execution_count": 405,
     "metadata": {},
     "output_type": "execute_result"
    }
   ],
   "source": [
    "ser.shape"
   ]
  },
  {
   "cell_type": "code",
   "execution_count": 408,
   "id": "excited-administrator",
   "metadata": {},
   "outputs": [
    {
     "name": "stdout",
     "output_type": "stream",
     "text": [
      "-2.9213547492617695\n",
      "3.4080547492617694\n"
     ]
    },
    {
     "data": {
      "text/plain": [
       "(59,)"
      ]
     },
     "execution_count": 408,
     "metadata": {},
     "output_type": "execute_result"
    }
   ],
   "source": [
    "filter_outliers(ser).shape"
   ]
  },
  {
   "cell_type": "code",
   "execution_count": 403,
   "id": "directed-mambo",
   "metadata": {},
   "outputs": [
    {
     "data": {
      "text/plain": [
       "191.285"
      ]
     },
     "execution_count": 403,
     "metadata": {},
     "output_type": "execute_result"
    }
   ],
   "source": [
    "\n",
    "ser.max()"
   ]
  },
  {
   "cell_type": "code",
   "execution_count": 366,
   "id": "immediate-three",
   "metadata": {},
   "outputs": [],
   "source": [
    "def make_plot(df, type_selection):\n",
    "    \n",
    "    val_cols = df.columns.tolist()\n",
    "    label_dict = {\"p\":\"real power\",\n",
    "                  \"q\":\"imaginary power\",\n",
    "                  \"i\":\"current\",x\n",
    "                  \"v\":\"voltage\"}\n",
    "    color_dict = {1:'red', 2:'blue', 3:'green'}\n",
    "    subplot_titles = [f\"{label_dict[sym]} ({sym})\" for sym in type_selection]\n",
    "\n",
    "    fig = make_subplots(rows=len(val_cols), cols=1,\n",
    "                        shared_xaxes=True,\n",
    "                        vertical_spacing=0.02,\n",
    "                        subplot_titles=subplot_titles)\n",
    "\n",
    "    legend_lst = [] #used to turn on and off add legend booleaN \n",
    "\n",
    "    for i, col in enumerate(val_cols):\n",
    "\n",
    "        y=df[col]\n",
    "        phase_num = int(col[1])\n",
    "        val_type = col[-1]\n",
    "        #is_non_zero used to start plot with zero series disabled \n",
    "        is_non_zero = (y.min() and y.max()) != 0\n",
    "        visible_setting = True if is_non_zero else 'legendonly'\n",
    "        # to ensure subplots are ordered as they are selected\n",
    "        row_num = type_selection.index(val_type) +1\n",
    "        color = color_dict[phase_num]\n",
    "        legendgroup_name=f\"phase {phase_num}\"\n",
    "        \n",
    "        # to prevent legend names being added more than once\n",
    "        if legendgroup_name not in legend_lst:\n",
    "            legend_lst.append(legendgroup_name)\n",
    "            showlegend = True\n",
    "        else:\n",
    "            showlegend = False\n",
    "\n",
    "        props_dict={'color':color_dict[phase_num]}\n",
    "        fig.add_trace(go.Scatter(x=y.index, y=y,\n",
    "                                 legendgroup=legendgroup_name,\n",
    "                                 name=legendgroup_name,\n",
    "                                 showlegend=showlegend,\n",
    "                                 visible=visible_setting,\n",
    "                                 line=props_dict),\n",
    "                      row=row_num, \n",
    "                      col=1)\n",
    "\n",
    "    fig.update_layout(height=(200*(i+1)), width=600)\n",
    "    \n",
    "    return fig"
   ]
  },
  {
   "cell_type": "code",
   "execution_count": 417,
   "id": "descending-strand",
   "metadata": {},
   "outputs": [],
   "source": [
    "import requests\n",
    "url = \"https://raw.githubusercontent.com/BarrySunderland/clemap-dash-demo/main/data/raw/output.csv?token=AK4OLGDAIK2ESYKGEEA4KN3AIVN4S\"\n",
    "resp = requests.get(url)"
   ]
  },
  {
   "cell_type": "code",
   "execution_count": 420,
   "id": "drawn-relaxation",
   "metadata": {},
   "outputs": [
    {
     "data": {
      "text/plain": [
       "['data',\n",
       " 'src',\n",
       " '.gitignore',\n",
       " 'LICENSE',\n",
       " 'README.md',\n",
       " '.git',\n",
       " 'heroku.yml',\n",
       " '.ipynb_checkpoints',\n",
       " 'notebooks',\n",
       " 'requirements.txt',\n",
       " 'Procfile']"
      ]
     },
     "execution_count": 420,
     "metadata": {},
     "output_type": "execute_result"
    }
   ],
   "source": [
    "import os\n",
    "os.listdir()"
   ]
  },
  {
   "cell_type": "code",
   "execution_count": 324,
   "id": "three-headquarters",
   "metadata": {},
   "outputs": [],
   "source": [
    "#load data\n",
    "fpath = './data/raw/output.csv'\n",
    "df = pd.read_csv(fpath)\n",
    "df = prep_datetime(df)"
   ]
  },
  {
   "cell_type": "code",
   "execution_count": null,
   "id": "occasional-revolution",
   "metadata": {},
   "outputs": [],
   "source": []
  },
  {
   "cell_type": "code",
   "execution_count": null,
   "id": "literary-happiness",
   "metadata": {},
   "outputs": [],
   "source": []
  },
  {
   "cell_type": "code",
   "execution_count": null,
   "id": "filled-singer",
   "metadata": {},
   "outputs": [],
   "source": []
  },
  {
   "cell_type": "code",
   "execution_count": null,
   "id": "public-bullet",
   "metadata": {},
   "outputs": [],
   "source": []
  },
  {
   "cell_type": "code",
   "execution_count": null,
   "id": "another-apartment",
   "metadata": {},
   "outputs": [],
   "source": []
  },
  {
   "cell_type": "code",
   "execution_count": null,
   "id": "velvet-edmonton",
   "metadata": {},
   "outputs": [],
   "source": []
  },
  {
   "cell_type": "code",
   "execution_count": 248,
   "id": "documentary-breathing",
   "metadata": {},
   "outputs": [],
   "source": [
    "#change to long format for easier plotting\n",
    "df = df.melt(var_name='measurement', id_vars='datetime')\n",
    "\n",
    "df[['phase','measurement']] = df['measurement'].str.split('_', expand=True)\n",
    "\n",
    "df['phase'] = df['phase'].str.replace('l','')\n",
    "\n",
    "\n",
    "\n",
    "df['label'] = df['measurement'].replace(label_dict,regex=True)\n",
    "df"
   ]
  },
  {
   "cell_type": "code",
   "execution_count": 367,
   "id": "functioning-founder",
   "metadata": {},
   "outputs": [],
   "source": [
    "# input_selection\n",
    "input_selection = ['p','i','v']"
   ]
  },
  {
   "cell_type": "code",
   "execution_count": 368,
   "id": "statutory-italian",
   "metadata": {},
   "outputs": [],
   "source": [
    "tdf = filter_df_cols(df, type_selection=input_selection)\n",
    "fig = make_plot(tdf, type_selection=input_selection)"
   ]
  },
  {
   "cell_type": "code",
   "execution_count": 369,
   "id": "collective-drama",
   "metadata": {},
   "outputs": [],
   "source": [
    "\n",
    "fig.write_html('first_figure.html', auto_open=True)"
   ]
  },
  {
   "cell_type": "code",
   "execution_count": null,
   "id": "applicable-probe",
   "metadata": {},
   "outputs": [],
   "source": []
  },
  {
   "cell_type": "code",
   "execution_count": null,
   "id": "bound-breast",
   "metadata": {},
   "outputs": [],
   "source": []
  },
  {
   "cell_type": "code",
   "execution_count": 147,
   "id": "front-wallet",
   "metadata": {},
   "outputs": [],
   "source": [
    "\n",
    "unique_measurements=df['measurement'].unique()\n",
    "\n",
    "for i, m in enumerate(unique_measurements):\n",
    "    tdf = df.loc[df['measurement']==m,:].copy()\n",
    "    tdf = tdf.rename(columns={'value':label_dict[m]})\n",
    "    fig = px.line(tdf, \n",
    "                  x='datetime', \n",
    "                  y=label_dict[m], \n",
    "                  color='phase',)\n"
   ]
  },
  {
   "cell_type": "code",
   "execution_count": 256,
   "id": "previous-berry",
   "metadata": {},
   "outputs": [],
   "source": [
    "\n",
    "fig = make_subplots(rows=len(val_cols), \n",
    "                    cols=1,\n",
    "                    shared_xaxes=True,\n",
    "                    subplot_titles=list(label_dict.values()))"
   ]
  },
  {
   "cell_type": "code",
   "execution_count": 263,
   "id": "suburban-violation",
   "metadata": {},
   "outputs": [
    {
     "name": "stdout",
     "output_type": "stream",
     "text": [
      "1\n",
      "None\n",
      "2\n",
      "None\n",
      "3\n",
      "legendonly\n",
      "1\n",
      "None\n",
      "2\n",
      "None\n",
      "3\n",
      "legendonly\n",
      "1\n",
      "None\n",
      "2\n",
      "None\n",
      "3\n",
      "legendonly\n",
      "1\n",
      "None\n",
      "2\n",
      "None\n",
      "3\n",
      "legendonly\n"
     ]
    }
   ],
   "source": [
    "\n",
    "\n",
    "\n",
    "for col in val_cols:\n",
    "    \n",
    "    phase_num = col[1]\n",
    "    val_type = col[-1]\n",
    "    \n",
    "    print(phase_num)\n",
    "    row_num = row_order[val_type]\n",
    "    legend_group=f\"phase {phase_num}\"\n",
    "    show_legend = True if phase_num == 1 else False\n",
    "    y = df[col]\n",
    "    visible = (y.max() and y.min()) != 0\n",
    "    visible_setting = None if visible else 'legendonly'\n",
    "    print(visible_setting)\n",
    "    fig.add_trace(go.Scatter(x=df['datetime'],\n",
    "                           y=y,\n",
    "                           legendgroup=legend_group,\n",
    "                           showlegend=show_legend,\n",
    "                           name=col,\n",
    "                           mode='lines',\n",
    "                           visible=visible_setting),\n",
    "                  row=row_num,\n",
    "                  col=1)\n",
    "    fig.update_layout(showlegend=True)\n",
    "    "
   ]
  },
  {
   "cell_type": "code",
   "execution_count": 282,
   "id": "honey-corrections",
   "metadata": {},
   "outputs": [],
   "source": [
    "\n",
    "fig.write_html('first_figure.html', auto_open=True)"
   ]
  },
  {
   "cell_type": "code",
   "execution_count": null,
   "id": "exciting-sterling",
   "metadata": {},
   "outputs": [],
   "source": []
  },
  {
   "cell_type": "code",
   "execution_count": 322,
   "id": "immune-arlington",
   "metadata": {},
   "outputs": [
    {
     "name": "stdout",
     "output_type": "stream",
     "text": [
      "Dash is running on http://127.0.0.1:8050/\n",
      "\n",
      " * Serving Flask app \"__main__\" (lazy loading)\n",
      " * Environment: production\n",
      "\u001b[31m   WARNING: This is a development server. Do not use it in a production deployment.\u001b[0m\n",
      "\u001b[2m   Use a production WSGI server instead.\u001b[0m\n",
      " * Debug mode: on\n"
     ]
    },
    {
     "ename": "SystemExit",
     "evalue": "1",
     "output_type": "error",
     "traceback": [
      "An exception has occurred, use %tb to see the full traceback.\n",
      "\u001b[0;31mSystemExit\u001b[0m\u001b[0;31m:\u001b[0m 1\n"
     ]
    },
    {
     "name": "stderr",
     "output_type": "stream",
     "text": [
      "/home/barry/anaconda3/envs/clemap-demo/lib/python3.9/site-packages/IPython/core/interactiveshell.py:3445: UserWarning:\n",
      "\n",
      "To exit: use 'exit', 'quit', or Ctrl-D.\n",
      "\n"
     ]
    }
   ],
   "source": []
  },
  {
   "cell_type": "code",
   "execution_count": null,
   "id": "stuck-physiology",
   "metadata": {},
   "outputs": [],
   "source": []
  }
 ],
 "metadata": {
  "kernelspec": {
   "display_name": "Python 3",
   "language": "python",
   "name": "python3"
  },
  "language_info": {
   "codemirror_mode": {
    "name": "ipython",
    "version": 3
   },
   "file_extension": ".py",
   "mimetype": "text/x-python",
   "name": "python",
   "nbconvert_exporter": "python",
   "pygments_lexer": "ipython3",
   "version": "3.9.2"
  }
 },
 "nbformat": 4,
 "nbformat_minor": 5
}
